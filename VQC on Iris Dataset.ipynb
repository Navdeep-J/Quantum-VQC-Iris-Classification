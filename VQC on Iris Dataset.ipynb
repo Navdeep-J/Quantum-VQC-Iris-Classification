{
 "cells": [
  {
   "cell_type": "markdown",
   "id": "88cf6043-2388-43df-ac30-93a975a14834",
   "metadata": {},
   "source": [
    "# Variational Quantum Classifier (VQC) for Iris Classification\n",
    "\n",
    "\n",
    "This notebook explores the application of the [Variational Quantum Classifier (VQC)](https://qiskit.org/ecosystem/machine-learning/stubs/qiskit_machine_learning.algorithms.VQC.html) algorithm for the classification of the famous [Iris dataset](https://en.wikipedia.org/wiki/Iris_flower_data_set). The VQC is a cutting-edge quantum algorithm designed for classification tasks. Leveraging the principles of variational circuits, the VQC combines classical and quantum computing to efficiently classify input data. In this notebook, we delve into the implementation and training of the VQC algorithm, unraveling its potential in handling classification challenges. In this context, we aim to train the VQC to classify different species of iris flowers based on features such as sepal length, sepal width, petal length, and petal width. "
   ]
  },
  {
   "cell_type": "markdown",
   "id": "10d56296-bd26-482a-930c-2b11dac1de16",
   "metadata": {
    "tags": []
   },
   "source": [
    "## Importing Libraries"
   ]
  },
  {
   "cell_type": "code",
   "execution_count": 115,
   "id": "32c8015f-810d-41f7-8fcb-2382128fc22d",
   "metadata": {},
   "outputs": [],
   "source": [
    "import warnings\n",
    "warnings.filterwarnings(\"ignore\")\n",
    "\n",
    "import numpy as np\n",
    "from qiskit import BasicAer\n",
    "from qiskit.circuit.library import ZZFeatureMap\n",
    "from qiskit_machine_learning.algorithms import VQC\n",
    "from qiskit.algorithms.optimizers import COBYLA\n",
    "from sklearn import datasets\n",
    "from sklearn.model_selection import train_test_split\n",
    "from sklearn.preprocessing import MinMaxScaler"
   ]
  },
  {
   "cell_type": "code",
   "execution_count": 126,
   "id": "418c76b6-0300-4c0d-8567-e89c1959ac7d",
   "metadata": {
    "tags": []
   },
   "outputs": [],
   "source": [
    "# Set random seed for reproducibility\n",
    "np.random.seed(60)"
   ]
  },
  {
   "cell_type": "markdown",
   "id": "022638cb-27c2-4f0e-b0f9-9c506a307599",
   "metadata": {},
   "source": [
    "## Loading the Iris Dataset"
   ]
  },
  {
   "cell_type": "code",
   "execution_count": 127,
   "id": "b7ea96ec-6175-43e8-94a4-2ddbcc5b4693",
   "metadata": {
    "tags": []
   },
   "outputs": [],
   "source": [
    "iris = datasets.load_iris()\n",
    "features = iris.data\n",
    "labels = iris.target"
   ]
  },
  {
   "cell_type": "code",
   "execution_count": 128,
   "id": "be0717bd-05a9-48af-8083-8826f7ceb243",
   "metadata": {
    "tags": []
   },
   "outputs": [
    {
     "name": "stdout",
     "output_type": "stream",
     "text": [
      "First 5 rows of the features of the dataset:\n",
      "\n",
      "[[5.1 3.5 1.4 0.2]\n",
      " [4.9 3.  1.4 0.2]\n",
      " [4.7 3.2 1.3 0.2]\n",
      " [4.6 3.1 1.5 0.2]\n",
      " [5.  3.6 1.4 0.2]]\n"
     ]
    }
   ],
   "source": [
    "# Printing the first 5 rows of the features of the dataset\n",
    "\n",
    "print(\"First 5 rows of the features of the dataset:\\n\")\n",
    "print(features[:5])"
   ]
  },
  {
   "cell_type": "code",
   "execution_count": 129,
   "id": "456e425b-c90b-4cc1-9987-90752d165351",
   "metadata": {
    "tags": []
   },
   "outputs": [
    {
     "name": "stdout",
     "output_type": "stream",
     "text": [
      "First 5 labels of the dataset:\n",
      "\n",
      "[0 0 0 0 0]\n"
     ]
    }
   ],
   "source": [
    "# Printing the first 5 labels\n",
    "\n",
    "print(\"First 5 labels of the dataset:\\n\")\n",
    "print(labels[:5])"
   ]
  },
  {
   "cell_type": "markdown",
   "id": "d9803585-bc1b-41a1-b786-8698a81c2f50",
   "metadata": {},
   "source": [
    "## Preprocessing the data"
   ]
  },
  {
   "cell_type": "code",
   "execution_count": 130,
   "id": "d14df59f-ff78-4f00-90db-c8ee7c79289a",
   "metadata": {
    "tags": []
   },
   "outputs": [
    {
     "name": "stdout",
     "output_type": "stream",
     "text": [
      "Features after applying MinMaxScaler:\n",
      "\n",
      "[[0.22222222 0.625      0.06779661 0.04166667]\n",
      " [0.16666667 0.41666667 0.06779661 0.04166667]\n",
      " [0.11111111 0.5        0.05084746 0.04166667]\n",
      " [0.08333333 0.45833333 0.08474576 0.04166667]\n",
      " [0.19444444 0.66666667 0.06779661 0.04166667]]\n"
     ]
    }
   ],
   "source": [
    "features = MinMaxScaler(feature_range=(0, 1)).fit_transform(features)\n",
    "\n",
    "print(\"Features after applying MinMaxScaler:\\n\")\n",
    "print(features[:5])"
   ]
  },
  {
   "cell_type": "code",
   "execution_count": 131,
   "id": "090544c7-4cef-4703-a421-99cb4fd11c7e",
   "metadata": {
    "tags": []
   },
   "outputs": [],
   "source": [
    "# Splitting the dataset into training and test sets\n",
    "\n",
    "train_features, test_features, train_labels, test_labels = train_test_split(features, labels, train_size=0.8, random_state=30)"
   ]
  },
  {
   "cell_type": "markdown",
   "id": "4c914eca-4dd9-438e-ad24-d76ccee6e30e",
   "metadata": {},
   "source": [
    "## Quantum Feature Map"
   ]
  },
  {
   "cell_type": "code",
   "execution_count": 132,
   "id": "468eb945-8712-47f4-8741-757944a51706",
   "metadata": {
    "tags": []
   },
   "outputs": [
    {
     "name": "stdout",
     "output_type": "stream",
     "text": [
      "     ┌────────────────────────────────────┐\n",
      "q_0: ┤0                                   ├\n",
      "     │                                    │\n",
      "q_1: ┤1                                   ├\n",
      "     │  ZZFeatureMap(x[0],x[1],x[2],x[3]) │\n",
      "q_2: ┤2                                   ├\n",
      "     │                                    │\n",
      "q_3: ┤3                                   ├\n",
      "     └────────────────────────────────────┘\n"
     ]
    }
   ],
   "source": [
    "# Set up quantum feature map\n",
    "num_qubits = features.shape[1]\n",
    "feature_map = ZZFeatureMap(feature_dimension=num_qubits, reps=2, entanglement=\"linear\")\n",
    "print(feature_map)"
   ]
  },
  {
   "cell_type": "markdown",
   "id": "6b0f0235-3dfc-47ea-85e3-561b68eb9147",
   "metadata": {},
   "source": [
    "## Setting up and training the VQC model"
   ]
  },
  {
   "cell_type": "code",
   "execution_count": 133,
   "id": "792df2c5-b006-428e-b3e2-49f23ef649b7",
   "metadata": {
    "tags": []
   },
   "outputs": [
    {
     "data": {
      "text/plain": [
       "<qiskit_machine_learning.algorithms.classifiers.vqc.VQC at 0x7f012efd7700>"
      ]
     },
     "execution_count": 133,
     "metadata": {},
     "output_type": "execute_result"
    }
   ],
   "source": [
    "# Set up VQC model with COBYLA optimizer\n",
    "optimizer = COBYLA(maxiter=100)\n",
    "vqc = VQC(optimizer=optimizer, feature_map=feature_map)\n",
    "\n",
    "# Train the VQC model\n",
    "vqc.fit(train_features, train_labels)\n"
   ]
  },
  {
   "cell_type": "code",
   "execution_count": 134,
   "id": "bfda98a0-45e2-4776-82a5-008711db2b5f",
   "metadata": {
    "tags": []
   },
   "outputs": [],
   "source": [
    "# Predicting labels for test_features\n",
    "\n",
    "pred_labels = vqc.predict(test_features)"
   ]
  },
  {
   "cell_type": "markdown",
   "id": "1fbc4b5f-bc5c-46fe-b6ff-99c7234ac5eb",
   "metadata": {},
   "source": [
    "## Model Accuracy"
   ]
  },
  {
   "cell_type": "code",
   "execution_count": 135,
   "id": "a4f37bc1-c260-4e1d-b6ba-86313ccf80c1",
   "metadata": {
    "tags": []
   },
   "outputs": [
    {
     "name": "stdout",
     "output_type": "stream",
     "text": [
      "VQC classification test accuracy: 0.9\n"
     ]
    }
   ],
   "source": [
    "# Calculate accuracy using accuracy_score\n",
    "from sklearn.metrics import accuracy_score\n",
    "\n",
    "accuracy = accuracy_score(test_labels, pred_labels)\n",
    "print(\"VQC classification test accuracy:\", accuracy)"
   ]
  },
  {
   "cell_type": "markdown",
   "id": "7e0d5f84-c227-412c-8952-1c87844f83c6",
   "metadata": {},
   "source": [
    "The accuracy of the model may differ each time you execute it because quantum circuits involve random processes. Quantum computing introduces inherent variability, leading to slightly different outcomes with each run.\n"
   ]
  },
  {
   "cell_type": "code",
   "execution_count": null,
   "id": "a3345b83-ae0e-4045-8863-f5137a3927e4",
   "metadata": {},
   "outputs": [],
   "source": [
    " "
   ]
  }
 ],
 "metadata": {
  "kernelspec": {
   "display_name": "Python 3 (ipykernel)",
   "language": "python",
   "name": "python3"
  },
  "language_info": {
   "codemirror_mode": {
    "name": "ipython",
    "version": 3
   },
   "file_extension": ".py",
   "mimetype": "text/x-python",
   "name": "python",
   "nbconvert_exporter": "python",
   "pygments_lexer": "ipython3",
   "version": "3.10.8"
  },
  "widgets": {
   "application/vnd.jupyter.widget-state+json": {
    "state": {},
    "version_major": 2,
    "version_minor": 0
   }
  }
 },
 "nbformat": 4,
 "nbformat_minor": 5
}
